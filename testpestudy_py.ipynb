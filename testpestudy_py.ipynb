{
  "nbformat": 4,
  "nbformat_minor": 0,
  "metadata": {
    "colab": {
      "provenance": [],
      "authorship_tag": "ABX9TyO6e4wO8OcdZKRYVQSZyijB",
      "include_colab_link": true
    },
    "kernelspec": {
      "name": "python3",
      "display_name": "Python 3"
    },
    "language_info": {
      "name": "python"
    }
  },
  "cells": [
    {
      "cell_type": "markdown",
      "metadata": {
        "id": "view-in-github",
        "colab_type": "text"
      },
      "source": [
        "<a href=\"https://colab.research.google.com/github/IrisPfister/test-random-cpf/blob/main/testpestudy_py.ipynb\" target=\"_parent\"><img src=\"https://colab.research.google.com/assets/colab-badge.svg\" alt=\"Open In Colab\"/></a>"
      ]
    },
    {
      "cell_type": "code",
      "execution_count": null,
      "metadata": {
        "colab": {
          "base_uri": "https://localhost:8080/",
          "height": 297
        },
        "id": "5P_m5FunQv63",
        "outputId": "13ae5ada-0c76-4029-c4ea-7bb51dc7c095"
      },
      "outputs": [
        {
          "output_type": "stream",
          "name": "stdout",
          "text": [
            "419794466\n",
            "o primeiro digito do cpf é 7\n",
            "o segundo digito do cpf é 9\n",
            "41979446679\n",
            "CPF VÁLIDO\n"
          ]
        },
        {
          "output_type": "error",
          "ename": "AttributeError",
          "evalue": "module 'random' has no attribute 'radint'",
          "traceback": [
            "\u001b[0;31m---------------------------------------------------------------------------\u001b[0m",
            "\u001b[0;31mAttributeError\u001b[0m                            Traceback (most recent call last)",
            "\u001b[0;32m<ipython-input-2-9bc9783eaf9d>\u001b[0m in \u001b[0;36m<cell line: 0>\u001b[0;34m()\u001b[0m\n\u001b[1;32m     56\u001b[0m \u001b[0mdigitos9\u001b[0m \u001b[0;34m=\u001b[0m \u001b[0;34m''\u001b[0m\u001b[0;34m\u001b[0m\u001b[0;34m\u001b[0m\u001b[0m\n\u001b[1;32m     57\u001b[0m \u001b[0;32mfor\u001b[0m \u001b[0mi\u001b[0m \u001b[0;32min\u001b[0m \u001b[0mrange\u001b[0m\u001b[0;34m(\u001b[0m\u001b[0;36m9\u001b[0m\u001b[0;34m)\u001b[0m\u001b[0;34m:\u001b[0m\u001b[0;34m\u001b[0m\u001b[0;34m\u001b[0m\u001b[0m\n\u001b[0;32m---> 58\u001b[0;31m   \u001b[0mdigitos9\u001b[0m \u001b[0;34m+=\u001b[0m \u001b[0mstr\u001b[0m\u001b[0;34m(\u001b[0m\u001b[0mrandom\u001b[0m\u001b[0;34m.\u001b[0m\u001b[0mradint\u001b[0m\u001b[0;34m(\u001b[0m\u001b[0;36m0\u001b[0m\u001b[0;34m,\u001b[0m\u001b[0;36m9\u001b[0m\u001b[0;34m)\u001b[0m\u001b[0;34m)\u001b[0m\u001b[0;34m\u001b[0m\u001b[0;34m\u001b[0m\u001b[0m\n\u001b[0m\u001b[1;32m     59\u001b[0m \u001b[0;31m#gerador dos 9 digitos aleatórios amoooo\u001b[0m\u001b[0;34m\u001b[0m\u001b[0;34m\u001b[0m\u001b[0m\n\u001b[1;32m     60\u001b[0m \u001b[0;34m\u001b[0m\u001b[0m\n",
            "\u001b[0;31mAttributeError\u001b[0m: module 'random' has no attribute 'radint'"
          ]
        }
      ],
      "source": [
        "import random\n",
        "digitos9 = ''\n",
        "for i in range(9):\n",
        "  digitos9 += str(random.randint(0,9))\n",
        "\n",
        "print(digitos9)\n",
        "\n",
        "lista = [10 , 9, 8, 7, 6, 5, 4, 3, 2, 1]\n",
        "lista_s = []\n",
        "\n",
        "for i in range(9):\n",
        "  v = int(digitos9[i]) * lista[i]\n",
        "  lista_s.append(v)\n",
        "\n",
        "#mostrar (lista_s)\n",
        "soma = sum(lista_s)\n",
        "#mostrar (soma)\n",
        "multiply = soma * 10\n",
        "d1 = multiply % 11\n",
        "if d1 >= 10:\n",
        "  d1 = 0\n",
        "  print(f\"o primeiro digito do cpf é {d1}\")\n",
        "else:\n",
        "  print(f\"o primeiro digito do cpf é {d1}\")\n",
        "\n",
        "digito10 = digitos9 + str(d1)\n",
        "\n",
        "lista_a = [11 , 10, 9, 8, 7, 6, 5, 4, 3, 2, 1]\n",
        "listad2 = []\n",
        "\n",
        "for i in range(10):\n",
        "  v1 = int(digito10[i]) * lista_a[i]\n",
        "  listad2.append(v1)\n",
        "\n",
        "somad2 = sum(listad2)\n",
        "#mostrar (soma)\n",
        "multipli = somad2 * 10\n",
        "d2 = multipli % 11\n",
        "\n",
        "if d2 >= 10 :\n",
        "    d2 = 0\n",
        "    print(f\"o segundo digito do cpf é {d2}\")\n",
        "else:\n",
        "    print(f\"o segundo digito do cpf é {d2}\")\n",
        "\n",
        "cpf = digitos9 + str(d1) + str(d2)\n",
        "print(cpf)\n",
        "\n",
        "if str(d1) == cpf[-2] and str(d2) == cpf[-1]:\n",
        "  print(\"CPF VÁLIDO\")\n",
        "else:\n",
        "  print(\"CPF INVÁLIDO\")\n",
        "\n",
        "import random\n",
        "\n",
        "digitos9 = ''\n",
        "for i in range(9):\n",
        "  digitos9 += str(random.radint(0,9))\n",
        "#gerador dos 9 digitos aleatórios amoooo\n",
        "\n",
        "digito10 = digitos9 + str(d1)\n",
        "#isso é a soma dos 9 digitos mais o digito verificador\n",
        "\n",
        "cpf = digitos9 + str(d1) + str(d2)\n",
        "\n",
        "print(cpf)\n"
      ]
    },
    {
      "cell_type": "code",
      "source": [
        "import random\n",
        "\n",
        "#9 primeiros dígitos do CPF\n",
        "digitos9 = ''.join(str(random.randint(0, 9)) for _ in range(9))\n",
        "\n",
        "lista_peso_1 = [10, 9, 8, 7, 6, 5, 4, 3, 2]\n",
        "lista_peso_2 = [11, 10, 9, 8, 7, 6, 5, 4, 3, 2]\n",
        "\n",
        "#primeiro dígito verificador (D1)\n",
        "soma = sum(int(digitos9[i]) * lista_peso_1[i] for i in range(9))\n",
        "d1 = (soma * 10) % 11\n",
        "d1 = 0 if d1 == 10 else d1\n",
        "\n",
        "#segundo dígito verificador (D2)\n",
        "digito10 = digitos9 + str(d1)\n",
        "soma2 = sum(int(digito10[i]) * lista_peso_2[i] for i in range(10))\n",
        "d2 = (soma2 * 10) % 11\n",
        "d2 = 0 if d2 == 10 else d2\n",
        "\n",
        "#CPF completo\n",
        "cpf = digitos9 + str(d1) + str(d2)\n",
        "\n",
        "#CPF gerado\n",
        "print(f\"CPF gerado: {cpf}\")"
      ],
      "metadata": {
        "colab": {
          "base_uri": "https://localhost:8080/"
        },
        "id": "_BZAL7hVuJVJ",
        "outputId": "ceb144c9-ca6f-4742-ab08-db8144ac2d8c"
      },
      "execution_count": 1,
      "outputs": [
        {
          "output_type": "stream",
          "name": "stdout",
          "text": [
            "CPF gerado: 97266001544\n"
          ]
        }
      ]
    }
  ]
}